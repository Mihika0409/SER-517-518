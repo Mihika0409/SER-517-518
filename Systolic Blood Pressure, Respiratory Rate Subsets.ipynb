{
 "cells": [
  {
   "cell_type": "code",
   "execution_count": 1,
   "metadata": {
    "collapsed": true
   },
   "outputs": [],
   "source": [
    "import pandas as pd\n",
    "import numpy as np\n",
    "import matplotlib.pyplot as plt"
   ]
  },
  {
   "cell_type": "code",
   "execution_count": 19,
   "metadata": {
    "collapsed": false
   },
   "outputs": [
    {
     "name": "stdout",
     "output_type": "stream",
     "text": [
      "3983\n"
     ]
    },
    {
     "data": {
      "text/plain": [
       "['tid',\n",
       " 'hosp_date',\n",
       " 'age',\n",
       " 'gender',\n",
       " 'Levels',\n",
       " 'icd_code',\n",
       " 'trauma_type',\n",
       " 'physical_abuse',\n",
       " 'Injury Comments',\n",
       " 'airbag_deploy',\n",
       " 'patient_pos',\n",
       " 'safety_equip_issues',\n",
       " 'child_restraint',\n",
       " 'mv_speed',\n",
       " 'fall_height',\n",
       " 'transport_type',\n",
       " 'transport_mode',\n",
       " 'Field SBP',\n",
       " 'Field HR',\n",
       " 'Shock Index',\n",
       " 'Field RR',\n",
       " 'resp_assis',\n",
       " 'RTS',\n",
       " 'GCS',\n",
       " 'arrived_from',\n",
       " 'ED_LOS',\n",
       " 'disposition',\n",
       " 'ED_SBP',\n",
       " 'ED_HR',\n",
       " 'ED_RR',\n",
       " 'ED_GCS',\n",
       " 'total_vent_days',\n",
       " 'days_in_icu',\n",
       " 'hosp_LOS',\n",
       " 'total_LOS',\n",
       " 'time_to_first_OR',\n",
       " 'death',\n",
       " 'discharge_dispo',\n",
       " 'injury_score',\n",
       " 'AIS',\n",
       " 'AIS_2005']"
      ]
     },
     "execution_count": 19,
     "metadata": {},
     "output_type": "execute_result"
    }
   ],
   "source": [
    "## Initial Data\n",
    "# Read the data from the csv\n",
    "df = pd.read_csv(\"Trauma Data.csv\")\n",
    "# Drop rows that have null ti#s (Note: These are rows that have numerous ais 2005#s)\n",
    "print(df.shape[0])\n",
    "df = df.dropna(subset=['tid'])\n",
    "\n",
    "# Rename columns\n",
    "df = df.rename(columns={'injury_comments': 'Injury Comments'})\n",
    "df = df.rename(columns={'levels': 'Levels'})\n",
    "df = df.rename(columns={'feild_SBP': 'Field SBP'})\n",
    "df = df.rename(columns={'feild_RR': 'Field RR', 'feild_HR': 'Field HR', 'feild_schok_ind': 'Shock Index', 'feild_GCS': 'GCS'})\n",
    "list(df)"
   ]
  },
  {
   "cell_type": "code",
   "execution_count": 3,
   "metadata": {
    "collapsed": false
   },
   "outputs": [
    {
     "data": {
      "text/html": [
       "<div>\n",
       "<table border=\"1\" class=\"dataframe\">\n",
       "  <thead>\n",
       "    <tr style=\"text-align: right;\">\n",
       "      <th></th>\n",
       "      <th>tid</th>\n",
       "      <th>hosp_date</th>\n",
       "      <th>age</th>\n",
       "      <th>gender</th>\n",
       "      <th>Levels</th>\n",
       "      <th>icd_code</th>\n",
       "      <th>trauma_type</th>\n",
       "      <th>physical_abuse</th>\n",
       "      <th>Injury Comments</th>\n",
       "      <th>airbag_deploy</th>\n",
       "      <th>...</th>\n",
       "      <th>total_vent_days</th>\n",
       "      <th>days_in_icu</th>\n",
       "      <th>hosp_LOS</th>\n",
       "      <th>total_LOS</th>\n",
       "      <th>time_to_first_OR</th>\n",
       "      <th>death</th>\n",
       "      <th>discharge_dispo</th>\n",
       "      <th>injury_score</th>\n",
       "      <th>AIS</th>\n",
       "      <th>AIS_2005</th>\n",
       "    </tr>\n",
       "  </thead>\n",
       "  <tbody>\n",
       "    <tr>\n",
       "      <th>0</th>\n",
       "      <td>18131</td>\n",
       "      <td>2016-01-01</td>\n",
       "      <td>16</td>\n",
       "      <td>M</td>\n",
       "      <td>N</td>\n",
       "      <td>DISCHARGE OF FIREWORK, INITIAL ENCOUNTER</td>\n",
       "      <td>Burn</td>\n",
       "      <td>N</td>\n",
       "      <td>M presenting today with eye injury. Pt celebra...</td>\n",
       "      <td>*NA</td>\n",
       "      <td>...</td>\n",
       "      <td>*NA</td>\n",
       "      <td>*NA</td>\n",
       "      <td>1</td>\n",
       "      <td>0.68</td>\n",
       "      <td>*BL</td>\n",
       "      <td>L</td>\n",
       "      <td>Discharged home with no home s</td>\n",
       "      <td>2.0</td>\n",
       "      <td>240603\\r\\n</td>\n",
       "      <td>NaN</td>\n",
       "    </tr>\n",
       "    <tr>\n",
       "      <th>1</th>\n",
       "      <td>18132</td>\n",
       "      <td>2016-01-01</td>\n",
       "      <td>14</td>\n",
       "      <td>F</td>\n",
       "      <td>1</td>\n",
       "      <td>ASSAULT BY KNIFE, INITIAL ENCOUNTER</td>\n",
       "      <td>Penetratin</td>\n",
       "      <td>N</td>\n",
       "      <td>female who was at a party in Casa Grande last ...</td>\n",
       "      <td>*NA</td>\n",
       "      <td>...</td>\n",
       "      <td>*NA</td>\n",
       "      <td>*NA</td>\n",
       "      <td>*NA</td>\n",
       "      <td>0.31</td>\n",
       "      <td>*BL</td>\n",
       "      <td>L</td>\n",
       "      <td>*NA</td>\n",
       "      <td>2.0</td>\n",
       "      <td>210602\\r\\n</td>\n",
       "      <td>NaN</td>\n",
       "    </tr>\n",
       "    <tr>\n",
       "      <th>2</th>\n",
       "      <td>18133</td>\n",
       "      <td>2016-01-01</td>\n",
       "      <td>9</td>\n",
       "      <td>M</td>\n",
       "      <td>N</td>\n",
       "      <td>PEDESTRIAN ON FOOT INJURED IN COLLISION WITH C...</td>\n",
       "      <td>Blunt</td>\n",
       "      <td>N</td>\n",
       "      <td>male with no sig PMH who presents via EMS with...</td>\n",
       "      <td>*NA</td>\n",
       "      <td>...</td>\n",
       "      <td>*NA</td>\n",
       "      <td>*NA</td>\n",
       "      <td>*NA</td>\n",
       "      <td>0.24</td>\n",
       "      <td>*NA</td>\n",
       "      <td>L</td>\n",
       "      <td>*NA</td>\n",
       "      <td>1.0</td>\n",
       "      <td>810402\\r\\n</td>\n",
       "      <td>NaN</td>\n",
       "    </tr>\n",
       "    <tr>\n",
       "      <th>3</th>\n",
       "      <td>18134</td>\n",
       "      <td>2016-01-01</td>\n",
       "      <td>0</td>\n",
       "      <td>F</td>\n",
       "      <td>N</td>\n",
       "      <td>FALL FROM OTHER FURNITURE, INITIAL ENCOUNTER</td>\n",
       "      <td>Blunt</td>\n",
       "      <td>N</td>\n",
       "      <td>36 week premie who presents after patient fell...</td>\n",
       "      <td>*NA</td>\n",
       "      <td>...</td>\n",
       "      <td>*NA</td>\n",
       "      <td>*NA</td>\n",
       "      <td>*NA</td>\n",
       "      <td>0.09</td>\n",
       "      <td>*BL</td>\n",
       "      <td>L</td>\n",
       "      <td>*NA</td>\n",
       "      <td>0.0</td>\n",
       "      <td>100099\\r\\n</td>\n",
       "      <td>NaN</td>\n",
       "    </tr>\n",
       "    <tr>\n",
       "      <th>4</th>\n",
       "      <td>18135</td>\n",
       "      <td>2016-01-01</td>\n",
       "      <td>2</td>\n",
       "      <td>F</td>\n",
       "      <td>N</td>\n",
       "      <td>OTHER FALL FROM ONE LEVEL TO ANOTHER, INITIAL ...</td>\n",
       "      <td>Blunt</td>\n",
       "      <td>N</td>\n",
       "      <td>F with no significant past medical history pre...</td>\n",
       "      <td>*NA</td>\n",
       "      <td>...</td>\n",
       "      <td>*NA</td>\n",
       "      <td>*NA</td>\n",
       "      <td>1</td>\n",
       "      <td>0.89</td>\n",
       "      <td>710</td>\n",
       "      <td>L</td>\n",
       "      <td>Discharged home with no home s</td>\n",
       "      <td>4.0</td>\n",
       "      <td>751351\\r\\n</td>\n",
       "      <td>NaN</td>\n",
       "    </tr>\n",
       "  </tbody>\n",
       "</table>\n",
       "<p>5 rows × 41 columns</p>\n",
       "</div>"
      ],
      "text/plain": [
       "     tid   hosp_date age gender Levels  \\\n",
       "0  18131  2016-01-01  16      M      N   \n",
       "1  18132  2016-01-01  14      F      1   \n",
       "2  18133  2016-01-01   9      M      N   \n",
       "3  18134  2016-01-01   0      F      N   \n",
       "4  18135  2016-01-01   2      F      N   \n",
       "\n",
       "                                            icd_code trauma_type  \\\n",
       "0           DISCHARGE OF FIREWORK, INITIAL ENCOUNTER        Burn   \n",
       "1                ASSAULT BY KNIFE, INITIAL ENCOUNTER  Penetratin   \n",
       "2  PEDESTRIAN ON FOOT INJURED IN COLLISION WITH C...       Blunt   \n",
       "3       FALL FROM OTHER FURNITURE, INITIAL ENCOUNTER       Blunt   \n",
       "4  OTHER FALL FROM ONE LEVEL TO ANOTHER, INITIAL ...       Blunt   \n",
       "\n",
       "  physical_abuse                                    Injury Comments  \\\n",
       "0              N  M presenting today with eye injury. Pt celebra...   \n",
       "1              N  female who was at a party in Casa Grande last ...   \n",
       "2              N  male with no sig PMH who presents via EMS with...   \n",
       "3              N  36 week premie who presents after patient fell...   \n",
       "4              N  F with no significant past medical history pre...   \n",
       "\n",
       "  airbag_deploy   ...    total_vent_days days_in_icu hosp_LOS total_LOS  \\\n",
       "0           *NA   ...                *NA         *NA        1      0.68   \n",
       "1           *NA   ...                *NA         *NA      *NA      0.31   \n",
       "2           *NA   ...                *NA         *NA      *NA      0.24   \n",
       "3           *NA   ...                *NA         *NA      *NA      0.09   \n",
       "4           *NA   ...                *NA         *NA        1      0.89   \n",
       "\n",
       "  time_to_first_OR death                 discharge_dispo injury_score  \\\n",
       "0              *BL     L  Discharged home with no home s          2.0   \n",
       "1              *BL     L                             *NA          2.0   \n",
       "2              *NA     L                             *NA          1.0   \n",
       "3              *BL     L                             *NA          0.0   \n",
       "4              710     L  Discharged home with no home s          4.0   \n",
       "\n",
       "          AIS AIS_2005  \n",
       "0  240603\\r\\n      NaN  \n",
       "1  210602\\r\\n      NaN  \n",
       "2  810402\\r\\n      NaN  \n",
       "3  100099\\r\\n      NaN  \n",
       "4  751351\\r\\n      NaN  \n",
       "\n",
       "[5 rows x 41 columns]"
      ]
     },
     "execution_count": 3,
     "metadata": {},
     "output_type": "execute_result"
    }
   ],
   "source": [
    "df.head()"
   ]
  },
  {
   "cell_type": "code",
   "execution_count": 4,
   "metadata": {
    "collapsed": false
   },
   "outputs": [
    {
     "data": {
      "text/html": [
       "<div>\n",
       "<table border=\"1\" class=\"dataframe\">\n",
       "  <thead>\n",
       "    <tr style=\"text-align: right;\">\n",
       "      <th></th>\n",
       "      <th>tid</th>\n",
       "      <th>Field SBP</th>\n",
       "      <th>Field RR</th>\n",
       "    </tr>\n",
       "  </thead>\n",
       "  <tbody>\n",
       "    <tr>\n",
       "      <th>0</th>\n",
       "      <td>18131.0</td>\n",
       "      <td>0.0</td>\n",
       "      <td>0.0</td>\n",
       "    </tr>\n",
       "    <tr>\n",
       "      <th>1</th>\n",
       "      <td>18132.0</td>\n",
       "      <td>108.0</td>\n",
       "      <td>78.0</td>\n",
       "    </tr>\n",
       "    <tr>\n",
       "      <th>2</th>\n",
       "      <td>18133.0</td>\n",
       "      <td>0.0</td>\n",
       "      <td>0.0</td>\n",
       "    </tr>\n",
       "    <tr>\n",
       "      <th>3</th>\n",
       "      <td>18134.0</td>\n",
       "      <td>9999.0</td>\n",
       "      <td>24.0</td>\n",
       "    </tr>\n",
       "    <tr>\n",
       "      <th>4</th>\n",
       "      <td>18135.0</td>\n",
       "      <td>0.0</td>\n",
       "      <td>28.0</td>\n",
       "    </tr>\n",
       "  </tbody>\n",
       "</table>\n",
       "</div>"
      ],
      "text/plain": [
       "       tid  Field SBP  Field RR\n",
       "0  18131.0        0.0       0.0\n",
       "1  18132.0      108.0      78.0\n",
       "2  18133.0        0.0       0.0\n",
       "3  18134.0     9999.0      24.0\n",
       "4  18135.0        0.0      28.0"
      ]
     },
     "execution_count": 4,
     "metadata": {},
     "output_type": "execute_result"
    }
   ],
   "source": [
    "# Visualize the sbp and rr columns\n",
    "def coerce_df_columns_to_numeric(df, column_list):\n",
    "    df[column_list] = df[column_list].apply(pd.to_numeric, errors='coerce')\n",
    "\n",
    "# Convert t1, and sbp/rr to numeric. Int if possible.\n",
    "# Note: RR and SBP cannot be converted to int atm since they may have na's\n",
    "coerce_df_columns_to_numeric(df, ['tid', 'Field SBP', 'Field RR'])\n",
    "\n",
    "# Get a subset of the dataframe to visualize our desired columns\n",
    "df_sbprr_subset = pd.DataFrame(df, columns = ['tid', 'Field SBP', 'Field RR'])\n",
    "df_sbprr_subset.head()"
   ]
  },
  {
   "cell_type": "code",
   "execution_count": 5,
   "metadata": {
    "collapsed": false
   },
   "outputs": [
    {
     "data": {
      "text/plain": [
       "array([    0.,    49.,    58.,    63.,    64.,    67.,    69.,    70.,\n",
       "          71.,    72.,    73.,    74.,    75.,    76.,    77.,    78.,\n",
       "          79.,    80.,    81.,    82.,    83.,    84.,    85.,    86.,\n",
       "          87.,    88.,    89.,    90.,    91.,    92.,    93.,    94.,\n",
       "          95.,    96.,    97.,    98.,    99.,   100.,   101.,   102.,\n",
       "         103.,   104.,   105.,   106.,   107.,   108.,   109.,   110.,\n",
       "         111.,   112.,   113.,   114.,   115.,   116.,   117.,   118.,\n",
       "         119.,   120.,   121.,   122.,   123.,   124.,   125.,   126.,\n",
       "         127.,   128.,   129.,   130.,   131.,   132.,   133.,   134.,\n",
       "         135.,   136.,   137.,   138.,   139.,   140.,   141.,   142.,\n",
       "         143.,   144.,   145.,   146.,   147.,   148.,   149.,   150.,\n",
       "         151.,   152.,   154.,   155.,   156.,   157.,   158.,   159.,\n",
       "         160.,   162.,   163.,   165.,   166.,   167.,   168.,   169.,\n",
       "         170.,   171.,   174.,   180.,   187.,   220.,   378.,   408.,\n",
       "        9999.,    nan])"
      ]
     },
     "execution_count": 5,
     "metadata": {},
     "output_type": "execute_result"
    }
   ],
   "source": [
    "# See unique SBP fields. Quick visualization for nulls.\n",
    "# Safe to assume Assuming that sbf fields are positive integers in a small range.\n",
    "init_sbp_arr = np.sort(df['Field SBP'].unique())\n",
    "init_sbp_arr"
   ]
  },
  {
   "cell_type": "code",
   "execution_count": 6,
   "metadata": {
    "collapsed": false
   },
   "outputs": [
    {
     "data": {
      "text/plain": [
       "array([  0.00000000e+00,   7.00000000e+00,   8.00000000e+00,\n",
       "         1.00000000e+01,   1.10000000e+01,   1.20000000e+01,\n",
       "         1.30000000e+01,   1.40000000e+01,   1.50000000e+01,\n",
       "         1.60000000e+01,   1.70000000e+01,   1.80000000e+01,\n",
       "         1.90000000e+01,   2.00000000e+01,   2.10000000e+01,\n",
       "         2.20000000e+01,   2.30000000e+01,   2.40000000e+01,\n",
       "         2.50000000e+01,   2.60000000e+01,   2.70000000e+01,\n",
       "         2.80000000e+01,   2.90000000e+01,   3.00000000e+01,\n",
       "         3.10000000e+01,   3.20000000e+01,   3.30000000e+01,\n",
       "         3.40000000e+01,   3.50000000e+01,   3.60000000e+01,\n",
       "         3.70000000e+01,   3.80000000e+01,   3.90000000e+01,\n",
       "         4.00000000e+01,   4.10000000e+01,   4.20000000e+01,\n",
       "         4.30000000e+01,   4.40000000e+01,   4.50000000e+01,\n",
       "         4.60000000e+01,   4.70000000e+01,   4.80000000e+01,\n",
       "         5.00000000e+01,   5.20000000e+01,   5.40000000e+01,\n",
       "         5.50000000e+01,   6.00000000e+01,   7.80000000e+01,\n",
       "         1.04000000e+02,   1.24000000e+02,   1.65000000e+02,\n",
       "         9.99900000e+03,              nan])"
      ]
     },
     "execution_count": 6,
     "metadata": {},
     "output_type": "execute_result"
    }
   ],
   "source": [
    "# See unique RR fields. Same reasoning as SBP fields\n",
    "init_rr_arr = np.sort(df['Field RR'].unique())\n",
    "init_rr_arr"
   ]
  },
  {
   "cell_type": "code",
   "execution_count": 12,
   "metadata": {
    "collapsed": false
   },
   "outputs": [
    {
     "data": {
      "text/plain": [
       "array([  7,   8,  10,  11,  12,  13,  14,  15,  16,  17,  18,  19,  20,\n",
       "        21,  22,  23,  24,  25,  26,  27,  28,  29,  30,  31,  32,  33,\n",
       "        34,  35,  36,  37,  38,  39,  40,  41,  42,  43,  44,  45,  46,\n",
       "        47,  48,  50,  52,  54,  55,  60,  78, 104, 124, 165])"
      ]
     },
     "execution_count": 12,
     "metadata": {},
     "output_type": "execute_result"
    }
   ],
   "source": [
    "# Respiratory rate subset\n",
    "rr_subset = df\n",
    "rr_subset = rr_subset.dropna(subset=['Field RR'])\n",
    "rr_subset = rr_subset.ix[(rr_subset['Field RR']> 0) & (rr_subset['Field RR'] != 9999)]\n",
    "#Test that sbp doesn't have nan\n",
    "final_rr_arr = np.sort(rr_subset['Field RR'].unique().astype(int))\n",
    "final_rr_arr"
   ]
  },
  {
   "cell_type": "code",
   "execution_count": 14,
   "metadata": {
    "collapsed": false
   },
   "outputs": [
    {
     "data": {
      "text/plain": [
       "array([ 49,  58,  63,  64,  67,  69,  70,  71,  72,  73,  74,  75,  76,\n",
       "        77,  78,  79,  80,  81,  82,  83,  84,  85,  86,  87,  88,  89,\n",
       "        90,  91,  92,  93,  94,  95,  96,  97,  98,  99, 100, 101, 102,\n",
       "       103, 104, 105, 106, 107, 108, 109, 110, 111, 112, 113, 114, 115,\n",
       "       116, 117, 118, 119, 120, 121, 122, 123, 124, 125, 126, 127, 128,\n",
       "       129, 130, 131, 132, 133, 134, 135, 136, 137, 138, 139, 140, 141,\n",
       "       142, 143, 144, 145, 146, 147, 148, 149, 150, 151, 152, 154, 155,\n",
       "       156, 157, 158, 159, 160, 162, 163, 165, 166, 167, 168, 169, 170,\n",
       "       171, 174, 180, 187, 220, 378, 408])"
      ]
     },
     "execution_count": 14,
     "metadata": {},
     "output_type": "execute_result"
    }
   ],
   "source": [
    "# SBP subset\n",
    "sbp_subset = df\n",
    "sbp_subset = sbp_subset.dropna(subset=['Field SBP'])\n",
    "sbp_subset = sbp_subset.ix[(sbp_subset['Field SBP']> 0) & (rr_subset['Field SBP'] != 9999)]\n",
    "#Test that sbp doesn't have nan\n",
    "final_sbp_arr = np.sort(sbp_subset['Field SBP'].unique().astype(int))\n",
    "final_sbp_arr"
   ]
  },
  {
   "cell_type": "code",
   "execution_count": 40,
   "metadata": {
    "collapsed": false
   },
   "outputs": [
    {
     "name": "stdout",
     "output_type": "stream",
     "text": [
      "Missing Data Analysis:\n",
      "Clean rows- Rows without 0, nan, 9999, or other null values for SBP/RR\n",
      "# of df rows: 3983\n",
      "# of valid rr rows: 2564\n",
      "# of valid sbp rows: 2260\n",
      "# of invalid rr rows: 1419\n",
      "# of invalid sbp rows: 1723\n",
      "percentage of invalid rr rows: 35.626%\n",
      "percentage of invalid sbp rows: 43.259%\n",
      "\n",
      "\n",
      " SBP analysis\n",
      "# of SBP rows in the following categories: low- 1216 norm- 837 high- 207\n",
      "low SBP patients that have level 1 trauma:  100 (8.224%)\n",
      "low SBP patients that have level 2 trauma:  346 (28.454%)\n",
      "normal SBP patients that have level 1 trauma:  59 (7.049%)\n",
      "normal SBP patients that have level 2 trauma:  238 (28.435%)\n",
      "high SBP patients that have level 1 trauma:  16 (7.729%)\n",
      "high SBP patients that have level 2 trauma:  55 (26.570%)\n",
      "% of level 1 patients that have a SBP  in a range that is: low: 57.143%, normal- 33.714%, high- 9.143%\n",
      "% of level 2 patients that have a SBP  in a range that is: low: 54.147%, normal- 37.246%, high- 8.607%\n",
      "\n",
      "\n",
      " RR analysis\n",
      "# of RR rows in the following categories: low- 7 norm- 1442 high- 1115\n",
      "low RR patients that have level 1 trauma:  4 (57.143%)\n",
      "low RR patients that have level 2 trauma:  1 (14.286%)\n",
      "normal RR patients that have level 1 trauma:  95 (6.588%)\n",
      "normal RR patients that have level 2 trauma:  395 (27.393%)\n",
      "high RR patients that have level 1 trauma:  82 (7.354%)\n",
      "high RR patients that have level 2 trauma:  280 (25.112%)\n",
      "% of level 1 patients that have a RR  in a range that is: low: 2.210%, normal- 52.486%, high- 45.304%\n",
      "% of level 2 patients that have a RR  in a range that is: low: 0.148%, normal- 58.432%, high- 41.420%\n"
     ]
    }
   ],
   "source": [
    "# See how many rows were dropped when removing nan rr's and nan sbp's\n",
    "df_count = df.shape[0]\n",
    "rr_count = rr_subset.shape[0]\n",
    "sbp_count = sbp_subset.shape[0]\n",
    "missing_rr_count = df_count - rr_count\n",
    "missing_sbp_count = df_count - sbp_count\n",
    "print('Missing Data Analysis:')\n",
    "print('Clean rows- Rows without 0, nan, 9999, or other null values for SBP/RR')\n",
    "print('# of df rows:', df_count)\n",
    "print('# of valid rr rows:', rr_count)\n",
    "print('# of valid sbp rows:', sbp_count)\n",
    "print('# of invalid rr rows:', missing_rr_count)\n",
    "print('# of invalid sbp rows:', missing_sbp_count)\n",
    "print('percentage of invalid rr rows: {0:.3f}%'.format(100 * missing_rr_count / df_count))\n",
    "print('percentage of invalid sbp rows: {0:.3f}%'.format(100 * missing_sbp_count / df_count))\n",
    "\n",
    "# High, low, healthy groups.. SBP: < 120, 120-140, >140   RR: < 12, 12-20, >20... For each group, determine % of lvl 1 and 2\n",
    "# Different groups.. level of patients in normal group, low sbp: high/low rr, high sbp: high/low rr (include normals?)\n",
    "\n",
    "def rows_in_range(data_frame, column_name, low_limit, high_limit):\n",
    "    low_range = data_frame.ix[(data_frame[column_name] < low_limit)]\n",
    "    norm_range = data_frame.ix[(data_frame[column_name] >= low_limit) & (data_frame[column_name] <= high_limit)]\n",
    "    high_range = data_frame.ix[(data_frame[column_name] > high_limit)]\n",
    "    return [low_range, norm_range, high_range]\n",
    "\n",
    "def print_subset_analysis(subset_range_arr, column_alias):\n",
    "    low_range = subset_range_arr[0]\n",
    "    norm_range = subset_range_arr[1]\n",
    "    high_range = subset_range_arr[2]\n",
    "    # Refactoring needed if this has to be expanded. for loop object or 2d array.(low priority since this is for a one time alaysis report)\n",
    "    low_range_one = low_range[low_range['Levels'].isin(['1'])].shape[0]\n",
    "    low_range_two = low_range[low_range['Levels'].isin(['2'])].shape[0]\n",
    "    norm_range_one = norm_range[norm_range['Levels'].isin(['1'])].shape[0]\n",
    "    norm_range_two = norm_range[norm_range['Levels'].isin(['2'])].shape[0]\n",
    "    high_range_one = high_range[high_range['Levels'].isin(['1'])].shape[0]\n",
    "    high_range_two = high_range[high_range['Levels'].isin(['2'])].shape[0]\n",
    "    # Total # of patients in any category. Note: They have to be either high, normal, or medium.\n",
    "    total_one = low_range_one + norm_range_one + high_range_one\n",
    "    total_two = low_range_two + norm_range_two + high_range_two\n",
    "    print('\\n\\n', column_alias, 'analysis')\n",
    "    print('# of', column_alias, 'rows in the following categories: low-', low_range.shape[0], 'norm-', norm_range.shape[0], 'high-', high_range.shape[0])\n",
    "    print('low', column_alias ,'patients that have level 1 trauma: ', low_range_one, '({0:.3f}%)'.format(100 * low_range_one / low_range.shape[0]))\n",
    "    print('low', column_alias ,'patients that have level 2 trauma: ', low_range_two, '({0:.3f}%)'.format(100 * low_range_two / low_range.shape[0]))\n",
    "    print('normal', column_alias ,'patients that have level 1 trauma: ', norm_range_one, '({0:.3f}%)'.format(100 * norm_range_one / norm_range.shape[0]))\n",
    "    print('normal', column_alias ,'patients that have level 2 trauma: ', norm_range_two, '({0:.3f}%)'.format(100 * norm_range_two / norm_range.shape[0]))\n",
    "    print('high', column_alias ,'patients that have level 1 trauma: ', high_range_one, '({0:.3f}%)'.format(100 * high_range_one / high_range.shape[0]))\n",
    "    print('high', column_alias ,'patients that have level 2 trauma: ', high_range_two, '({0:.3f}%)'.format(100 * high_range_two / high_range.shape[0]))\n",
    "    \n",
    "    print('% of level 1 patients that have a', column_alias, \n",
    "          ' in a range that is: low: {0:.3f}%,'.format(100 * low_range_one / total_one), \n",
    "          'normal- {0:.3f}%,'.format(100 * norm_range_one / total_one), \n",
    "          'high- {0:.3f}%'.format(100 * high_range_one / total_one))\n",
    "    print('% of level 2 patients that have a', column_alias, \n",
    "      ' in a range that is: low: {0:.3f}%,'.format(100 * low_range_two / total_two), \n",
    "      'normal- {0:.3f}%,'.format(100 * norm_range_two / total_two), \n",
    "      'high- {0:.3f}%'.format(100 * high_range_two / total_two))\n",
    "\n",
    "    \n",
    "sbp_range = rows_in_range(sbp_subset, 'Field SBP', 120, 140)\n",
    "rr_range = rows_in_range(rr_subset, 'Field RR', 12, 20)\n",
    "print_subset_analysis(sbp_range, 'SBP')\n",
    "print_subset_analysis(rr_range, 'RR')\n"
   ]
  },
  {
   "cell_type": "code",
   "execution_count": null,
   "metadata": {
    "collapsed": false
   },
   "outputs": [],
   "source": [
    "# RR subset, showing sbp and rr (note, sbp can be null/0)\n",
    "pd.DataFrame(rr_subset, columns = ['T1#', 'Field SBP', 'Field RR'])"
   ]
  },
  {
   "cell_type": "code",
   "execution_count": null,
   "metadata": {
    "collapsed": false
   },
   "outputs": [],
   "source": [
    "# RR subset, showing sbp and rr (note, rr can be null/0)\n",
    "pd.DataFrame(sbp_subset, columns = ['T1#', 'Field SBP', 'Field RR'])"
   ]
  },
  {
   "cell_type": "code",
   "execution_count": null,
   "metadata": {
    "collapsed": true
   },
   "outputs": [],
   "source": [
    "# Download Respiratory Rate and Systolic Blood Pressure subsets as csv files\n",
    "rr_subset.to_csv('./rr_subset.csv')\n",
    "sbp_subset.to_csv('./sbp_subset.csv', encoding='utf-8', index=False)"
   ]
  },
  {
   "cell_type": "code",
   "execution_count": null,
   "metadata": {
    "collapsed": true
   },
   "outputs": [],
   "source": []
  }
 ],
 "metadata": {
  "kernelspec": {
   "display_name": "Python 3",
   "language": "python",
   "name": "python3"
  },
  "language_info": {
   "codemirror_mode": {
    "name": "ipython",
    "version": 3
   },
   "file_extension": ".py",
   "mimetype": "text/x-python",
   "name": "python",
   "nbconvert_exporter": "python",
   "pygments_lexer": "ipython3",
   "version": "3.6.0"
  }
 },
 "nbformat": 4,
 "nbformat_minor": 0
}
